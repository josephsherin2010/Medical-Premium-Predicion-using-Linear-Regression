{
 "cells": [
  {
   "cell_type": "code",
   "execution_count": 2,
   "id": "3b08640a",
   "metadata": {},
   "outputs": [],
   "source": [
    "#Import the dataset\n",
    "\n",
    "import pandas as pd\n",
    "\n",
    "df = pd.read_csv('Medicalpremium.csv')"
   ]
  },
  {
   "cell_type": "markdown",
   "id": "415ab78c",
   "metadata": {},
   "source": [
    "--> The data is read from 'Medicalpremium.csv' and saved in to data frame 'df'."
   ]
  },
  {
   "cell_type": "code",
   "execution_count": 3,
   "id": "42d34417",
   "metadata": {},
   "outputs": [
    {
     "name": "stdout",
     "output_type": "stream",
     "text": [
      "      Age  Diabetes  BloodPressureProblems  AnyTransplants  \\\n",
      "0      45         0                      0               0   \n",
      "1      60         1                      0               0   \n",
      "2      36         1                      1               0   \n",
      "3      52         1                      1               0   \n",
      "4      38         0                      0               0   \n",
      "...   ...       ...                    ...             ...   \n",
      "1007   50         0                      1               1   \n",
      "1008   38         0                      1               0   \n",
      "1009   22         0                      1               0   \n",
      "1010   47         1                      0               0   \n",
      "1011   23         1                      0               0   \n",
      "\n",
      "      AnyChronicDiseases  Height  Weight  KnownAllergies  \\\n",
      "0                      0   155.0    57.0             0.0   \n",
      "1                      0   180.0    73.0             0.0   \n",
      "2                      0   158.0    59.0             0.0   \n",
      "3                      1   183.0    93.0             0.0   \n",
      "4                      1   166.0    88.0             0.0   \n",
      "...                  ...     ...     ...             ...   \n",
      "1007                   0   170.0    67.0             0.0   \n",
      "1008                   1   165.0    71.0             1.0   \n",
      "1009                   0   171.0    72.0             1.0   \n",
      "1010                   1   154.0    75.0             1.0   \n",
      "1011                   0   157.0    80.0             1.0   \n",
      "\n",
      "      HistoryOfCancerInFamily  NumberOfMajorSurgeries  PremiumPrice  \n",
      "0                           0                       0       25000.0  \n",
      "1                           0                       0       29000.0  \n",
      "2                           0                       1       23000.0  \n",
      "3                           0                       2       28000.0  \n",
      "4                           0                       1       23000.0  \n",
      "...                       ...                     ...           ...  \n",
      "1007                        1                       1       27000.0  \n",
      "1008                        0                       0       24000.0  \n",
      "1009                        1                       1       17000.0  \n",
      "1010                        0                       1       30000.0  \n",
      "1011                        1                       1       16000.0  \n",
      "\n",
      "[1012 rows x 11 columns]\n"
     ]
    }
   ],
   "source": [
    "print(df)"
   ]
  },
  {
   "cell_type": "markdown",
   "id": "8959c539",
   "metadata": {},
   "source": [
    "--> The data in the dataset is printed and it has 1012 records with 11 columns"
   ]
  },
  {
   "cell_type": "code",
   "execution_count": 4,
   "id": "be56c5a2",
   "metadata": {},
   "outputs": [
    {
     "name": "stdout",
     "output_type": "stream",
     "text": [
      "<class 'pandas.core.frame.DataFrame'>\n",
      "RangeIndex: 1012 entries, 0 to 1011\n",
      "Data columns (total 11 columns):\n",
      " #   Column                   Non-Null Count  Dtype  \n",
      "---  ------                   --------------  -----  \n",
      " 0   Age                      1012 non-null   int64  \n",
      " 1   Diabetes                 1012 non-null   int64  \n",
      " 2   BloodPressureProblems    1012 non-null   int64  \n",
      " 3   AnyTransplants           1012 non-null   int64  \n",
      " 4   AnyChronicDiseases       1012 non-null   int64  \n",
      " 5   Height                   996 non-null    float64\n",
      " 6   Weight                   999 non-null    float64\n",
      " 7   KnownAllergies           1009 non-null   float64\n",
      " 8   HistoryOfCancerInFamily  1012 non-null   int64  \n",
      " 9   NumberOfMajorSurgeries   1012 non-null   int64  \n",
      " 10  PremiumPrice             1007 non-null   float64\n",
      "dtypes: float64(4), int64(7)\n",
      "memory usage: 87.1 KB\n"
     ]
    }
   ],
   "source": [
    "df.info()"
   ]
  },
  {
   "cell_type": "markdown",
   "id": "57f61d2f",
   "metadata": {},
   "source": [
    "--> We have :\n",
    "    PremiumPrice - (Target variable) in INR\n",
    "\n",
    "   The remaining 10 predictors which have datatype of int and float. Some of the columns have few missing values"
   ]
  },
  {
   "cell_type": "code",
   "execution_count": 77,
   "id": "ff6a46e7",
   "metadata": {},
   "outputs": [
    {
     "data": {
      "text/html": [
       "<div>\n",
       "<style scoped>\n",
       "    .dataframe tbody tr th:only-of-type {\n",
       "        vertical-align: middle;\n",
       "    }\n",
       "\n",
       "    .dataframe tbody tr th {\n",
       "        vertical-align: top;\n",
       "    }\n",
       "\n",
       "    .dataframe thead th {\n",
       "        text-align: right;\n",
       "    }\n",
       "</style>\n",
       "<table border=\"1\" class=\"dataframe\">\n",
       "  <thead>\n",
       "    <tr style=\"text-align: right;\">\n",
       "      <th></th>\n",
       "      <th>Age</th>\n",
       "      <th>Diabetes</th>\n",
       "      <th>BloodPressureProblems</th>\n",
       "      <th>AnyTransplants</th>\n",
       "      <th>AnyChronicDiseases</th>\n",
       "      <th>Height</th>\n",
       "      <th>Weight</th>\n",
       "      <th>KnownAllergies</th>\n",
       "      <th>HistoryOfCancerInFamily</th>\n",
       "      <th>NumberOfMajorSurgeries</th>\n",
       "      <th>PremiumPrice</th>\n",
       "    </tr>\n",
       "  </thead>\n",
       "  <tbody>\n",
       "    <tr>\n",
       "      <th>count</th>\n",
       "      <td>979.000000</td>\n",
       "      <td>979.000000</td>\n",
       "      <td>979.000000</td>\n",
       "      <td>979.000000</td>\n",
       "      <td>979.000000</td>\n",
       "      <td>979.000000</td>\n",
       "      <td>979.000000</td>\n",
       "      <td>979.000000</td>\n",
       "      <td>979.000000</td>\n",
       "      <td>979.000000</td>\n",
       "      <td>979.000000</td>\n",
       "    </tr>\n",
       "    <tr>\n",
       "      <th>mean</th>\n",
       "      <td>41.673136</td>\n",
       "      <td>0.417773</td>\n",
       "      <td>0.474974</td>\n",
       "      <td>0.056180</td>\n",
       "      <td>0.185904</td>\n",
       "      <td>168.023493</td>\n",
       "      <td>76.821246</td>\n",
       "      <td>0.220633</td>\n",
       "      <td>0.121553</td>\n",
       "      <td>0.665986</td>\n",
       "      <td>24311.542390</td>\n",
       "    </tr>\n",
       "    <tr>\n",
       "      <th>std</th>\n",
       "      <td>13.912133</td>\n",
       "      <td>0.493444</td>\n",
       "      <td>0.499629</td>\n",
       "      <td>0.230386</td>\n",
       "      <td>0.389228</td>\n",
       "      <td>10.163613</td>\n",
       "      <td>14.088013</td>\n",
       "      <td>0.414886</td>\n",
       "      <td>0.326935</td>\n",
       "      <td>0.741535</td>\n",
       "      <td>6229.750803</td>\n",
       "    </tr>\n",
       "    <tr>\n",
       "      <th>min</th>\n",
       "      <td>18.000000</td>\n",
       "      <td>0.000000</td>\n",
       "      <td>0.000000</td>\n",
       "      <td>0.000000</td>\n",
       "      <td>0.000000</td>\n",
       "      <td>145.000000</td>\n",
       "      <td>51.000000</td>\n",
       "      <td>0.000000</td>\n",
       "      <td>0.000000</td>\n",
       "      <td>0.000000</td>\n",
       "      <td>12000.000000</td>\n",
       "    </tr>\n",
       "    <tr>\n",
       "      <th>25%</th>\n",
       "      <td>30.000000</td>\n",
       "      <td>0.000000</td>\n",
       "      <td>0.000000</td>\n",
       "      <td>0.000000</td>\n",
       "      <td>0.000000</td>\n",
       "      <td>161.000000</td>\n",
       "      <td>67.000000</td>\n",
       "      <td>0.000000</td>\n",
       "      <td>0.000000</td>\n",
       "      <td>0.000000</td>\n",
       "      <td>21000.000000</td>\n",
       "    </tr>\n",
       "    <tr>\n",
       "      <th>50%</th>\n",
       "      <td>42.000000</td>\n",
       "      <td>0.000000</td>\n",
       "      <td>0.000000</td>\n",
       "      <td>0.000000</td>\n",
       "      <td>0.000000</td>\n",
       "      <td>168.000000</td>\n",
       "      <td>75.000000</td>\n",
       "      <td>0.000000</td>\n",
       "      <td>0.000000</td>\n",
       "      <td>1.000000</td>\n",
       "      <td>23000.000000</td>\n",
       "    </tr>\n",
       "    <tr>\n",
       "      <th>75%</th>\n",
       "      <td>53.000000</td>\n",
       "      <td>1.000000</td>\n",
       "      <td>1.000000</td>\n",
       "      <td>0.000000</td>\n",
       "      <td>0.000000</td>\n",
       "      <td>176.000000</td>\n",
       "      <td>87.000000</td>\n",
       "      <td>0.000000</td>\n",
       "      <td>0.000000</td>\n",
       "      <td>1.000000</td>\n",
       "      <td>28000.000000</td>\n",
       "    </tr>\n",
       "    <tr>\n",
       "      <th>max</th>\n",
       "      <td>66.000000</td>\n",
       "      <td>1.000000</td>\n",
       "      <td>1.000000</td>\n",
       "      <td>1.000000</td>\n",
       "      <td>1.000000</td>\n",
       "      <td>188.000000</td>\n",
       "      <td>132.000000</td>\n",
       "      <td>1.000000</td>\n",
       "      <td>1.000000</td>\n",
       "      <td>3.000000</td>\n",
       "      <td>40000.000000</td>\n",
       "    </tr>\n",
       "  </tbody>\n",
       "</table>\n",
       "</div>"
      ],
      "text/plain": [
       "              Age    Diabetes  BloodPressureProblems  AnyTransplants  \\\n",
       "count  979.000000  979.000000             979.000000      979.000000   \n",
       "mean    41.673136    0.417773               0.474974        0.056180   \n",
       "std     13.912133    0.493444               0.499629        0.230386   \n",
       "min     18.000000    0.000000               0.000000        0.000000   \n",
       "25%     30.000000    0.000000               0.000000        0.000000   \n",
       "50%     42.000000    0.000000               0.000000        0.000000   \n",
       "75%     53.000000    1.000000               1.000000        0.000000   \n",
       "max     66.000000    1.000000               1.000000        1.000000   \n",
       "\n",
       "       AnyChronicDiseases      Height      Weight  KnownAllergies  \\\n",
       "count          979.000000  979.000000  979.000000      979.000000   \n",
       "mean             0.185904  168.023493   76.821246        0.220633   \n",
       "std              0.389228   10.163613   14.088013        0.414886   \n",
       "min              0.000000  145.000000   51.000000        0.000000   \n",
       "25%              0.000000  161.000000   67.000000        0.000000   \n",
       "50%              0.000000  168.000000   75.000000        0.000000   \n",
       "75%              0.000000  176.000000   87.000000        0.000000   \n",
       "max              1.000000  188.000000  132.000000        1.000000   \n",
       "\n",
       "       HistoryOfCancerInFamily  NumberOfMajorSurgeries  PremiumPrice  \n",
       "count               979.000000              979.000000    979.000000  \n",
       "mean                  0.121553                0.665986  24311.542390  \n",
       "std                   0.326935                0.741535   6229.750803  \n",
       "min                   0.000000                0.000000  12000.000000  \n",
       "25%                   0.000000                0.000000  21000.000000  \n",
       "50%                   0.000000                1.000000  23000.000000  \n",
       "75%                   0.000000                1.000000  28000.000000  \n",
       "max                   1.000000                3.000000  40000.000000  "
      ]
     },
     "execution_count": 77,
     "metadata": {},
     "output_type": "execute_result"
    }
   ],
   "source": [
    "# Describing the dataset\n",
    "df.describe()"
   ]
  },
  {
   "cell_type": "markdown",
   "id": "7a4b6fe6",
   "metadata": {},
   "source": [
    "--> The 5 number summary, mean and standard deviation of each column is displayed above."
   ]
  },
  {
   "cell_type": "code",
   "execution_count": 78,
   "id": "806de850",
   "metadata": {},
   "outputs": [
    {
     "data": {
      "text/plain": [
       "0"
      ]
     },
     "execution_count": 78,
     "metadata": {},
     "output_type": "execute_result"
    }
   ],
   "source": [
    "# Finding if there are any duplicate records\n",
    "df.duplicated().sum()"
   ]
  },
  {
   "cell_type": "markdown",
   "id": "9b220f36",
   "metadata": {},
   "source": [
    "--> As seen from the result : There are no duplicate records in the dataset"
   ]
  },
  {
   "cell_type": "code",
   "execution_count": 5,
   "id": "6bf199cb",
   "metadata": {},
   "outputs": [
    {
     "data": {
      "text/plain": [
       "Age                         0\n",
       "Diabetes                    0\n",
       "BloodPressureProblems       0\n",
       "AnyTransplants              0\n",
       "AnyChronicDiseases          0\n",
       "Height                     16\n",
       "Weight                     13\n",
       "KnownAllergies              3\n",
       "HistoryOfCancerInFamily     0\n",
       "NumberOfMajorSurgeries      0\n",
       "PremiumPrice                5\n",
       "dtype: int64"
      ]
     },
     "execution_count": 5,
     "metadata": {},
     "output_type": "execute_result"
    }
   ],
   "source": [
    "#Finding the number of missing values in each column\n",
    "df.isna().sum()"
   ]
  },
  {
   "cell_type": "markdown",
   "id": "2bbf9edd",
   "metadata": {},
   "source": [
    "--> The Height has - 16, Weight - 13, KnownAllergies - 3 and PremiumPrice - 5 missing values.\n",
    "    They need to be fixed before modelling"
   ]
  },
  {
   "cell_type": "code",
   "execution_count": 6,
   "id": "b7161abe",
   "metadata": {
    "scrolled": true
   },
   "outputs": [
    {
     "data": {
      "text/plain": [
       "Age                        0.000000\n",
       "Diabetes                   0.000000\n",
       "BloodPressureProblems      0.000000\n",
       "AnyTransplants             0.000000\n",
       "AnyChronicDiseases         0.000000\n",
       "Height                     0.015810\n",
       "Weight                     0.012846\n",
       "KnownAllergies             0.002964\n",
       "HistoryOfCancerInFamily    0.000000\n",
       "NumberOfMajorSurgeries     0.000000\n",
       "PremiumPrice               0.004941\n",
       "dtype: float64"
      ]
     },
     "execution_count": 6,
     "metadata": {},
     "output_type": "execute_result"
    }
   ],
   "source": [
    "#Finding the percentage of missing values in each column\n",
    "df.isna().mean()"
   ]
  },
  {
   "cell_type": "code",
   "execution_count": 15,
   "id": "3030347a",
   "metadata": {},
   "outputs": [],
   "source": [
    "#Handling missing values\n",
    "df.fillna({\n",
    "                 'Height':df.Height.mean(),\n",
    "                 'Weight':df.Weight.mean(),\n",
    "            },\n",
    "        inplace = True)"
   ]
  },
  {
   "cell_type": "markdown",
   "id": "44b0bb14",
   "metadata": {},
   "source": [
    "--> The missing values in the \"Height\" and \"Weight\" columns are filled with the mean values of the corresponding columns."
   ]
  },
  {
   "cell_type": "code",
   "execution_count": 16,
   "id": "395ba678",
   "metadata": {},
   "outputs": [
    {
     "data": {
      "text/plain": [
       "Age                        0.000000\n",
       "Diabetes                   0.000000\n",
       "BloodPressureProblems      0.000000\n",
       "AnyTransplants             0.000000\n",
       "AnyChronicDiseases         0.000000\n",
       "Height                     0.000000\n",
       "Weight                     0.000000\n",
       "KnownAllergies             0.002964\n",
       "HistoryOfCancerInFamily    0.000000\n",
       "NumberOfMajorSurgeries     0.000000\n",
       "PremiumPrice               0.004941\n",
       "dtype: float64"
      ]
     },
     "execution_count": 16,
     "metadata": {},
     "output_type": "execute_result"
    }
   ],
   "source": [
    "#Finding the percentage of missing values in each column\n",
    "df.isna().mean()"
   ]
  },
  {
   "cell_type": "markdown",
   "id": "4ea6be41",
   "metadata": {},
   "source": [
    "--> It is seen that the \"KnownAllergies\" and \"PremiumPrice\" has missing values less than 1%. Hence we shall drop the rows with     those missing values."
   ]
  },
  {
   "cell_type": "code",
   "execution_count": 9,
   "id": "29a1f106",
   "metadata": {},
   "outputs": [],
   "source": [
    "# Dropping null rows with null values\n",
    "df.dropna(inplace=True)"
   ]
  },
  {
   "cell_type": "code",
   "execution_count": 79,
   "id": "5ab52cd8",
   "metadata": {},
   "outputs": [
    {
     "data": {
      "text/plain": [
       "Age                        0.0\n",
       "Diabetes                   0.0\n",
       "BloodPressureProblems      0.0\n",
       "AnyTransplants             0.0\n",
       "AnyChronicDiseases         0.0\n",
       "Height                     0.0\n",
       "Weight                     0.0\n",
       "KnownAllergies             0.0\n",
       "HistoryOfCancerInFamily    0.0\n",
       "NumberOfMajorSurgeries     0.0\n",
       "PremiumPrice               0.0\n",
       "dtype: float64"
      ]
     },
     "execution_count": 79,
     "metadata": {},
     "output_type": "execute_result"
    }
   ],
   "source": [
    "df.isna().mean()"
   ]
  },
  {
   "cell_type": "markdown",
   "id": "9cc7535d",
   "metadata": {},
   "source": [
    "--> We could see that there are no more missing values in our data."
   ]
  },
  {
   "cell_type": "markdown",
   "id": "09e2df1c",
   "metadata": {},
   "source": [
    "                                      EXPLORATORY DATA ANALYSIS"
   ]
  },
  {
   "cell_type": "code",
   "execution_count": 32,
   "id": "b2aa5b4e",
   "metadata": {},
   "outputs": [
    {
     "data": {
      "text/plain": [
       "<AxesSubplot:ylabel='Age'>"
      ]
     },
     "execution_count": 32,
     "metadata": {},
     "output_type": "execute_result"
    },
    {
     "data": {
      "image/png": "[encoded data removed]",
      "text/plain": [
       "<Figure size 432x288 with 1 Axes>"
      ]
     },
     "metadata": {},
     "output_type": "display_data"
    }
   ],
   "source": [
    "# Distribution of Age\n",
    "import seaborn as sns\n",
    "sns.set_theme(style=\"darkgrid\")\n",
    "sns.boxplot( y=df[\"Age\"] )"
   ]
  },
  {
   "cell_type": "markdown",
   "id": "e5f4e4f4",
   "metadata": {},
   "source": [
    "--> The distribution of numeric variable \"Age\" is as shown above. The box pot reveals that there are no outliers.\n",
    "The mean age is 42."
   ]
  },
  {
   "cell_type": "code",
   "execution_count": 21,
   "id": "10b45f74",
   "metadata": {},
   "outputs": [
    {
     "data": {
      "text/plain": [
       "<AxesSubplot:ylabel='Height'>"
      ]
     },
     "execution_count": 21,
     "metadata": {},
     "output_type": "execute_result"
    },
    {
     "data": {
      "image/png": "[encoded data removed]",
      "text/plain": [
       "<Figure size 432x288 with 1 Axes>"
      ]
     },
     "metadata": {},
     "output_type": "display_data"
    }
   ],
   "source": [
    "# Distribution of Height\n",
    "sns.boxplot( y=df[\"Height\"],color='r' )"
   ]
  },
  {
   "cell_type": "markdown",
   "id": "76d4729a",
   "metadata": {},
   "source": [
    "--> The distribution of numeric variable \"Height\" is as shown above. The box pot reveals that there are no outliers.\n",
    "The mean Height is 168."
   ]
  },
  {
   "cell_type": "code",
   "execution_count": 22,
   "id": "af973adf",
   "metadata": {},
   "outputs": [
    {
     "data": {
      "text/plain": [
       "<AxesSubplot:ylabel='Weight'>"
      ]
     },
     "execution_count": 22,
     "metadata": {},
     "output_type": "execute_result"
    },
    {
     "data": {
      "image/png": "[encoded data removed]",
      "text/plain": [
       "<Figure size 432x288 with 1 Axes>"
      ]
     },
     "metadata": {},
     "output_type": "display_data"
    }
   ],
   "source": [
    "# Distribution of Weight\n",
    "sns.boxplot( y=df[\"Weight\"],color='g' )"
   ]
  },
  {
   "cell_type": "markdown",
   "id": "f12067b4",
   "metadata": {},
   "source": [
    "--> The distribution of numeric variable \"Weight\" is as shown above. The box pot reveals that there are some outliers. But         those values can practically occur and hence we are not removing it from out data.\n",
    "    The mean Weight is 77."
   ]
  },
  {
   "cell_type": "code",
   "execution_count": 23,
   "id": "1003b98d",
   "metadata": {},
   "outputs": [
    {
     "data": {
      "text/plain": [
       "<AxesSubplot:xlabel='Age', ylabel='PremiumPrice'>"
      ]
     },
     "execution_count": 23,
     "metadata": {},
     "output_type": "execute_result"
    },
    {
     "data": {
      "image/png": "[encoded data removed]",
      "text/plain": [
       "<Figure size 432x288 with 1 Axes>"
      ]
     },
     "metadata": {},
     "output_type": "display_data"
    }
   ],
   "source": [
    "# Scatter plot of Age vs PremiumPrice\n",
    "sns.scatterplot(data=df, x=\"Age\", y=\"PremiumPrice\",color='orange')"
   ]
  },
  {
   "cell_type": "markdown",
   "id": "c489480b",
   "metadata": {},
   "source": [
    "--> It is seen from the plot that there is good positive linear correlation between Age and PremiumPrice."
   ]
  },
  {
   "cell_type": "code",
   "execution_count": 24,
   "id": "e60744f2",
   "metadata": {},
   "outputs": [
    {
     "data": {
      "text/plain": [
       "<AxesSubplot:xlabel='Diabetes', ylabel='PremiumPrice'>"
      ]
     },
     "execution_count": 24,
     "metadata": {},
     "output_type": "execute_result"
    },
    {
     "data": {
      "image/png": "[encoded data removed]",
      "text/plain": [
       "<Figure size 432x288 with 1 Axes>"
      ]
     },
     "metadata": {},
     "output_type": "display_data"
    }
   ],
   "source": [
    "# Bar plot of Diabetes vs PremiumPrice\n",
    "sns.barplot(x=\"Diabetes\", y=\"PremiumPrice\", data=df)"
   ]
  },
  {
   "cell_type": "markdown",
   "id": "7ab73a84",
   "metadata": {},
   "source": [
    "--> It is seen that the mean PremiumPrice of the people with Diabetes is slightly over those without Diabetes."
   ]
  },
  {
   "cell_type": "code",
   "execution_count": 25,
   "id": "04f9ac3c",
   "metadata": {},
   "outputs": [
    {
     "data": {
      "text/plain": [
       "<AxesSubplot:xlabel='BloodPressureProblems', ylabel='PremiumPrice'>"
      ]
     },
     "execution_count": 25,
     "metadata": {},
     "output_type": "execute_result"
    },
    {
     "data": {
      "image/png": "[encoded data removed]",
      "text/plain": [
       "<Figure size 432x288 with 1 Axes>"
      ]
     },
     "metadata": {},
     "output_type": "display_data"
    }
   ],
   "source": [
    "# Bar plot of BloodPressureProblems vs PremiumPrice\n",
    "sns.barplot(x=\"BloodPressureProblems\", y=\"PremiumPrice\", data=df)"
   ]
  },
  {
   "cell_type": "markdown",
   "id": "e2d994f9",
   "metadata": {},
   "source": [
    "--> It is seen that the mean PremiumPrice of the people with BloodPressureProblems is greater than those without           BloodPressureProblems."
   ]
  },
  {
   "cell_type": "code",
   "execution_count": 26,
   "id": "0fd69f7c",
   "metadata": {},
   "outputs": [
    {
     "data": {
      "text/plain": [
       "<AxesSubplot:xlabel='AnyTransplants', ylabel='PremiumPrice'>"
      ]
     },
     "execution_count": 26,
     "metadata": {},
     "output_type": "execute_result"
    },
    {
     "data": {
      "image/png": "[encoded data removed]",
      "text/plain": [
       "<Figure size 432x288 with 1 Axes>"
      ]
     },
     "metadata": {},
     "output_type": "display_data"
    }
   ],
   "source": [
    "# Bar plot of AnyTransplants vs PremiumPrice\n",
    "sns.barplot(x=\"AnyTransplants\", y=\"PremiumPrice\", data=df)"
   ]
  },
  {
   "cell_type": "markdown",
   "id": "5bb1e2ce",
   "metadata": {},
   "source": [
    "--> It is seen that the mean PremiumPrice of the people with AnyTransplants is well over those without AnyTransplants."
   ]
  },
  {
   "cell_type": "code",
   "execution_count": 27,
   "id": "bb3b30e5",
   "metadata": {},
   "outputs": [
    {
     "data": {
      "text/plain": [
       "<AxesSubplot:xlabel='AnyChronicDiseases', ylabel='PremiumPrice'>"
      ]
     },
     "execution_count": 27,
     "metadata": {},
     "output_type": "execute_result"
    },
    {
     "data": {
      "image/png": "[encoded data removed]",
      "text/plain": [
       "<Figure size 432x288 with 1 Axes>"
      ]
     },
     "metadata": {},
     "output_type": "display_data"
    }
   ],
   "source": [
    "# Bar plot of AnyChronicDiseases vs PremiumPrice\n",
    "sns.barplot(x=\"AnyChronicDiseases\", y=\"PremiumPrice\", data=df)"
   ]
  },
  {
   "cell_type": "markdown",
   "id": "3d266b15",
   "metadata": {},
   "source": [
    "\n",
    "--> It is seen that the mean PremiumPrice of the people with AnyChronicDiseases is greater those without AnyChronicDiseases.\n"
   ]
  },
  {
   "cell_type": "code",
   "execution_count": 28,
   "id": "c06264ad",
   "metadata": {},
   "outputs": [
    {
     "data": {
      "text/plain": [
       "<AxesSubplot:xlabel='Height', ylabel='PremiumPrice'>"
      ]
     },
     "execution_count": 28,
     "metadata": {},
     "output_type": "execute_result"
    },
    {
     "data": {
      "image/png": "[encoded data removed]",
      "text/plain": [
       "<Figure size 432x288 with 1 Axes>"
      ]
     },
     "metadata": {},
     "output_type": "display_data"
    }
   ],
   "source": [
    "# Scatter plot of Height vs PremiumPrice\n",
    "sns.scatterplot(data=df, x=\"Height\", y=\"PremiumPrice\",color='g')"
   ]
  },
  {
   "cell_type": "markdown",
   "id": "3bc06532",
   "metadata": {},
   "source": [
    "\n",
    "--> We could see there is no much linear relation between Height and PremiumPrice\n"
   ]
  },
  {
   "cell_type": "code",
   "execution_count": 29,
   "id": "12ba64fd",
   "metadata": {},
   "outputs": [
    {
     "data": {
      "text/plain": [
       "<AxesSubplot:xlabel='Weight', ylabel='PremiumPrice'>"
      ]
     },
     "execution_count": 29,
     "metadata": {},
     "output_type": "execute_result"
    },
    {
     "data": {
      "image/png": "[encoded data removed]",
      "text/plain": [
       "<Figure size 432x288 with 1 Axes>"
      ]
     },
     "metadata": {},
     "output_type": "display_data"
    }
   ],
   "source": [
    "# Scatter plot of Weight vs PremiumPrice\n",
    "sns.scatterplot(data=df, x=\"Weight\", y=\"PremiumPrice\",color='r')"
   ]
  },
  {
   "cell_type": "markdown",
   "id": "9a612054",
   "metadata": {},
   "source": [
    "\n",
    "--> We could see there is no much linear relation between Weight and PremiumPrice\n"
   ]
  },
  {
   "cell_type": "code",
   "execution_count": 33,
   "id": "dc5a1138",
   "metadata": {},
   "outputs": [
    {
     "data": {
      "text/plain": [
       "<AxesSubplot:xlabel='KnownAllergies', ylabel='PremiumPrice'>"
      ]
     },
     "execution_count": 33,
     "metadata": {},
     "output_type": "execute_result"
    },
    {
     "data": {
      "image/png": "[encoded data removed]",
      "text/plain": [
       "<Figure size 432x288 with 1 Axes>"
      ]
     },
     "metadata": {},
     "output_type": "display_data"
    }
   ],
   "source": [
    "# Bar plot of KnownAllergies vs PremiumPrice\n",
    "sns.barplot(x=\"KnownAllergies\", y=\"PremiumPrice\", data=df)"
   ]
  },
  {
   "cell_type": "markdown",
   "id": "8bace041",
   "metadata": {},
   "source": [
    "\n",
    "--> The mean PremiumPrice of the people with KnownAllergies is almost the same as those without KnownAllergies.\n"
   ]
  },
  {
   "cell_type": "code",
   "execution_count": 34,
   "id": "78906227",
   "metadata": {},
   "outputs": [
    {
     "data": {
      "text/plain": [
       "<AxesSubplot:xlabel='HistoryOfCancerInFamily', ylabel='PremiumPrice'>"
      ]
     },
     "execution_count": 34,
     "metadata": {},
     "output_type": "execute_result"
    },
    {
     "data": {
      "image/png": "[encoded data removed]",
      "text/plain": [
       "<Figure size 432x288 with 1 Axes>"
      ]
     },
     "metadata": {},
     "output_type": "display_data"
    }
   ],
   "source": [
    "# Bar plot of HistoryOfCancerInFamily vs PremiumPrice\n",
    "sns.barplot(x=\"HistoryOfCancerInFamily\", y=\"PremiumPrice\", data=df)"
   ]
  },
  {
   "cell_type": "markdown",
   "id": "2e99abc3",
   "metadata": {},
   "source": [
    "\n",
    "--> The mean PremiumPrice of the people with HistoryOfCancerInFamily is greater than those without HistoryOfCancerInFamily.\n"
   ]
  },
  {
   "cell_type": "code",
   "execution_count": 35,
   "id": "2e27fce4",
   "metadata": {},
   "outputs": [
    {
     "data": {
      "text/plain": [
       "<AxesSubplot:xlabel='NumberOfMajorSurgeries', ylabel='PremiumPrice'>"
      ]
     },
     "execution_count": 35,
     "metadata": {},
     "output_type": "execute_result"
    },
    {
     "data": {
      "image/png": "[encoded data removed]",
      "text/plain": [
       "<Figure size 432x288 with 1 Axes>"
      ]
     },
     "metadata": {},
     "output_type": "display_data"
    }
   ],
   "source": [
    "# Bar plot of NumberOfMajorSurgeries vs PremiumPrice\n",
    "sns.barplot(x=\"NumberOfMajorSurgeries\", y=\"PremiumPrice\", data=df)"
   ]
  },
  {
   "cell_type": "markdown",
   "id": "2819c3ce",
   "metadata": {},
   "source": [
    "\n",
    "--> From the graph its clear that as the NumberOfMajorSurgeries increased, the mean PremiumPrice went up and is the maximum for \n",
    "those with 2 and 3 NumberOfMajorSurgeries.\n"
   ]
  },
  {
   "cell_type": "code",
   "execution_count": 40,
   "id": "5f245d44",
   "metadata": {},
   "outputs": [
    {
     "data": {
      "text/plain": [
       "<AxesSubplot:>"
      ]
     },
     "execution_count": 40,
     "metadata": {},
     "output_type": "execute_result"
    },
    {
     "data": {
      "image/png": "[encoded data removed]",
      "text/plain": [
       "<Figure size 432x288 with 2 Axes>"
      ]
     },
     "metadata": {},
     "output_type": "display_data"
    }
   ],
   "source": [
    "# Correlation between variables\n",
    "#sns.heatmap(df.loc[:,['Age','Height','Weight','PremiumPrice']].corr(),annot=True,cmap=\"cool\")\n",
    "sns.heatmap(df.loc[:,:].corr(),cmap=\"cool\")"
   ]
  },
  {
   "cell_type": "markdown",
   "id": "a7663e71",
   "metadata": {},
   "source": [
    "\n",
    "--> From the correlation matrix, we could see that the Age and PremiumPrice have high correlation and the rest of the columns with minor corrlation. \n"
   ]
  },
  {
   "cell_type": "code",
   "execution_count": 41,
   "id": "833f4b8b",
   "metadata": {},
   "outputs": [],
   "source": [
    "# Shuffling the data\n",
    "df = df.sample(frac = 1, random_state=0)"
   ]
  },
  {
   "cell_type": "code",
   "execution_count": 42,
   "id": "844c64e1",
   "metadata": {},
   "outputs": [],
   "source": [
    "# Separating the predictors and the target variables\n",
    "X = df.drop(columns=['PremiumPrice'])\n",
    "y = pd.Series(df.PremiumPrice, name = 'premiumprice')"
   ]
  },
  {
   "cell_type": "markdown",
   "id": "335f38c5",
   "metadata": {},
   "source": [
    "\n",
    "--> The predictors are saved to X data frame.\n",
    "    The target variable 'premiumprice' is saved as a series y.\n"
   ]
  },
  {
   "cell_type": "code",
   "execution_count": 43,
   "id": "116362eb",
   "metadata": {},
   "outputs": [
    {
     "name": "stdout",
     "output_type": "stream",
     "text": [
      "<class 'pandas.core.frame.DataFrame'>\n",
      "Int64Index: 979 entries, 291 to 708\n",
      "Data columns (total 10 columns):\n",
      " #   Column                   Non-Null Count  Dtype  \n",
      "---  ------                   --------------  -----  \n",
      " 0   Age                      979 non-null    int64  \n",
      " 1   Diabetes                 979 non-null    int64  \n",
      " 2   BloodPressureProblems    979 non-null    int64  \n",
      " 3   AnyTransplants           979 non-null    int64  \n",
      " 4   AnyChronicDiseases       979 non-null    int64  \n",
      " 5   Height                   979 non-null    float64\n",
      " 6   Weight                   979 non-null    float64\n",
      " 7   KnownAllergies           979 non-null    float64\n",
      " 8   HistoryOfCancerInFamily  979 non-null    int64  \n",
      " 9   NumberOfMajorSurgeries   979 non-null    int64  \n",
      "dtypes: float64(3), int64(7)\n",
      "memory usage: 84.1 KB\n"
     ]
    }
   ],
   "source": [
    "# To confirm the dataframe have only independent variables\n",
    "X.info()"
   ]
  },
  {
   "cell_type": "code",
   "execution_count": 44,
   "id": "00d6ad4d",
   "metadata": {},
   "outputs": [
    {
     "name": "stdout",
     "output_type": "stream",
     "text": [
      "                            OLS Regression Results                            \n",
      "==============================================================================\n",
      "Dep. Variable:           premiumprice   R-squared:                       0.637\n",
      "Model:                            OLS   Adj. R-squared:                  0.633\n",
      "Method:                 Least Squares   F-statistic:                     169.5\n",
      "Date:                Fri, 10 Sep 2021   Prob (F-statistic):          7.06e-205\n",
      "Time:                        02:05:40   Log-Likelihood:                -9446.8\n",
      "No. Observations:                 979   AIC:                         1.892e+04\n",
      "Df Residuals:                     968   BIC:                         1.897e+04\n",
      "Df Model:                          10                                         \n",
      "Covariance Type:            nonrobust                                         \n",
      "===========================================================================================\n",
      "                              coef    std err          t      P>|t|      [0.025      0.975]\n",
      "-------------------------------------------------------------------------------------------\n",
      "const                    6018.3548   2107.092      2.856      0.004    1883.360    1.02e+04\n",
      "Age                       329.5956      9.963     33.083      0.000     310.044     349.147\n",
      "Diabetes                 -427.5168    254.314     -1.681      0.093    -926.587      71.553\n",
      "BloodPressureProblems     203.5939    254.423      0.800      0.424    -295.689     702.877\n",
      "AnyTransplants           7395.7910    524.858     14.091      0.000    6365.801    8425.781\n",
      "AnyChronicDiseases       2605.2433    313.191      8.318      0.000    1990.631    3219.856\n",
      "Height                     -8.6829     11.943     -0.727      0.467     -32.120      14.754\n",
      "Weight                     68.6673      8.612      7.974      0.000      51.768      85.567\n",
      "KnownAllergies            297.4014    296.030      1.005      0.315    -283.533     878.335\n",
      "HistoryOfCancerInFamily  2171.2474    382.961      5.670      0.000    1419.717    2922.777\n",
      "NumberOfMajorSurgeries   -609.2140    189.396     -3.217      0.001    -980.887    -237.541\n",
      "==============================================================================\n",
      "Omnibus:                      243.476   Durbin-Watson:                   1.926\n",
      "Prob(Omnibus):                  0.000   Jarque-Bera (JB):             1279.960\n",
      "Skew:                           1.037   Prob(JB):                    1.15e-278\n",
      "Kurtosis:                       8.204   Cond. No.                     3.31e+03\n",
      "==============================================================================\n",
      "\n",
      "Notes:\n",
      "[1] Standard Errors assume that the covariance matrix of the errors is correctly specified.\n",
      "[2] The condition number is large, 3.31e+03. This might indicate that there are\n",
      "strong multicollinearity or other numerical problems.\n"
     ]
    }
   ],
   "source": [
    "# Running the OLS for feature selection\n",
    "import statsmodels.api as sm\n",
    "X2 = sm.add_constant(X) \n",
    "ols = sm.OLS(y,X2)\n",
    "lr = ols.fit()\n",
    "print(lr.summary())"
   ]
  },
  {
   "cell_type": "markdown",
   "id": "648d11f1",
   "metadata": {},
   "source": [
    "\n",
    "--> The OLS model summary will give the p-values for each independent variables and for those variables with p-values greater than the half the significance level, needs to be elliminated before doing the linear regression.\n",
    "In our case, \"Diabetes\", \"BloodPressureProblems\", \"Height\" and \"KnownAllergies\" needs to be removed from our dataset.\n"
   ]
  },
  {
   "cell_type": "code",
   "execution_count": 46,
   "id": "3b21899b",
   "metadata": {},
   "outputs": [
    {
     "name": "stdout",
     "output_type": "stream",
     "text": [
      "                            OLS Regression Results                            \n",
      "==============================================================================\n",
      "Dep. Variable:           premiumprice   R-squared:                       0.635\n",
      "Model:                            OLS   Adj. R-squared:                  0.632\n",
      "Method:                 Least Squares   F-statistic:                     281.4\n",
      "Date:                Fri, 10 Sep 2021   Prob (F-statistic):          1.50e-208\n",
      "Time:                        02:14:06   Log-Likelihood:                -9449.4\n",
      "No. Observations:                 979   AIC:                         1.891e+04\n",
      "Df Residuals:                     972   BIC:                         1.895e+04\n",
      "Df Model:                           6                                         \n",
      "Covariance Type:            nonrobust                                         \n",
      "===========================================================================================\n",
      "                              coef    std err          t      P>|t|      [0.025      0.975]\n",
      "-------------------------------------------------------------------------------------------\n",
      "const                    4620.0827    776.839      5.947      0.000    3095.609    6144.557\n",
      "Age                       326.9875      9.697     33.722      0.000     307.959     346.016\n",
      "AnyTransplants           7417.0685    524.394     14.144      0.000    6387.994    8446.143\n",
      "AnyChronicDiseases       2657.8809    311.049      8.545      0.000    2047.476    3268.286\n",
      "Weight                     68.5953      8.582      7.992      0.000      51.753      85.438\n",
      "HistoryOfCancerInFamily  2244.5791    381.208      5.888      0.000    1496.494    2992.664\n",
      "NumberOfMajorSurgeries   -583.1130    185.569     -3.142      0.002    -947.274    -218.952\n",
      "==============================================================================\n",
      "Omnibus:                      246.221   Durbin-Watson:                   1.938\n",
      "Prob(Omnibus):                  0.000   Jarque-Bera (JB):             1292.684\n",
      "Skew:                           1.050   Prob(JB):                    1.98e-281\n",
      "Kurtosis:                       8.223   Cond. No.                         571.\n",
      "==============================================================================\n",
      "\n",
      "Notes:\n",
      "[1] Standard Errors assume that the covariance matrix of the errors is correctly specified.\n"
     ]
    }
   ],
   "source": [
    "#Backward Feature Elimination\n",
    "maxp = lr.pvalues.max()\n",
    "while(maxp > 0.025):\n",
    "    X2.drop(lr.pvalues.idxmax(),axis=1,inplace=True) \n",
    "    ols = sm.OLS(y,X2)\n",
    "    lr = ols.fit()\n",
    "    maxp = lr.pvalues.max()\n",
    "print(lr.summary())"
   ]
  },
  {
   "cell_type": "markdown",
   "id": "2d5fe642",
   "metadata": {},
   "source": [
    "\n",
    "--> After running the backward feature ellimination, we could see that only significant variables are sustained in our dataset and this data is to be considered for linear regression.\n"
   ]
  },
  {
   "cell_type": "code",
   "execution_count": 47,
   "id": "20153769",
   "metadata": {},
   "outputs": [],
   "source": [
    "# Removing constant\n",
    "X= X2.drop('const',axis=1)"
   ]
  },
  {
   "cell_type": "code",
   "execution_count": 80,
   "id": "5fae7e27",
   "metadata": {},
   "outputs": [
    {
     "name": "stdout",
     "output_type": "stream",
     "text": [
      "<class 'pandas.core.frame.DataFrame'>\n",
      "Int64Index: 979 entries, 291 to 708\n",
      "Data columns (total 6 columns):\n",
      " #   Column                   Non-Null Count  Dtype  \n",
      "---  ------                   --------------  -----  \n",
      " 0   Age                      979 non-null    int64  \n",
      " 1   AnyTransplants           979 non-null    int64  \n",
      " 2   AnyChronicDiseases       979 non-null    int64  \n",
      " 3   Weight                   979 non-null    float64\n",
      " 4   HistoryOfCancerInFamily  979 non-null    int64  \n",
      " 5   NumberOfMajorSurgeries   979 non-null    int64  \n",
      "dtypes: float64(1), int64(5)\n",
      "memory usage: 53.5 KB\n"
     ]
    }
   ],
   "source": [
    "# Making sure all unwanted variables are removed\n",
    "X.info()"
   ]
  },
  {
   "cell_type": "code",
   "execution_count": 49,
   "id": "d8f4c7d2",
   "metadata": {},
   "outputs": [
    {
     "data": {
      "text/plain": [
       "LinearRegression()"
      ]
     },
     "execution_count": 49,
     "metadata": {},
     "output_type": "execute_result"
    }
   ],
   "source": [
    "#Let's use sklearn to do Linear Regression\n",
    "\n",
    "from sklearn.linear_model import LinearRegression\n",
    "model = LinearRegression()\n",
    "model.fit(X,y)"
   ]
  },
  {
   "cell_type": "markdown",
   "id": "dadeedb9",
   "metadata": {},
   "source": [
    "\n",
    "--> The sklearn package is used to import linear regression library and an instance of linear regression model is created.\n",
    "The fit method is used with X and y as inputs.\n"
   ]
  },
  {
   "cell_type": "code",
   "execution_count": 50,
   "id": "1c148732",
   "metadata": {},
   "outputs": [
    {
     "data": {
      "text/plain": [
       "0.6346197406229959"
      ]
     },
     "execution_count": 50,
     "metadata": {},
     "output_type": "execute_result"
    }
   ],
   "source": [
    "#check R^2 value\n",
    "R2=model.score(X,y)\n",
    "R2"
   ]
  },
  {
   "cell_type": "markdown",
   "id": "ae9b3ea1",
   "metadata": {},
   "source": [
    "\n",
    "--> The R^2 values is obtained from the model.score method and its 0.6346. The R^2 refers to the % change in y which can be explained by the change in X.\n"
   ]
  },
  {
   "cell_type": "code",
   "execution_count": 53,
   "id": "d1aa0c24",
   "metadata": {},
   "outputs": [],
   "source": [
    "#Function to Calculate Adj R^2 value\n",
    "def adjR2(n,k,R2):\n",
    "    return 1 - ((n-1)/(n-k-1))*(1-R2)"
   ]
  },
  {
   "cell_type": "code",
   "execution_count": 54,
   "id": "e2f91398",
   "metadata": {},
   "outputs": [
    {
     "data": {
      "text/plain": [
       "0.6323643069231378"
      ]
     },
     "execution_count": 54,
     "metadata": {},
     "output_type": "execute_result"
    }
   ],
   "source": [
    "n = X.shape[0]\n",
    "k = X.shape[1]\n",
    "adjR2(n,k,R2)"
   ]
  },
  {
   "cell_type": "markdown",
   "id": "4afd6a8e",
   "metadata": {},
   "source": [
    "\n",
    "--> The adjusted R^2 values is 0.6323\n"
   ]
  },
  {
   "cell_type": "code",
   "execution_count": 55,
   "id": "23e9126c",
   "metadata": {},
   "outputs": [
    {
     "data": {
      "text/plain": [
       "0.6235262863940386"
      ]
     },
     "execution_count": 55,
     "metadata": {},
     "output_type": "execute_result"
    }
   ],
   "source": [
    "#k-fold cross validation using linear regression model\n",
    "from sklearn.model_selection import cross_val_score\n",
    "cross_val_score(LinearRegression(),X,y,cv=4).mean()"
   ]
  },
  {
   "cell_type": "markdown",
   "id": "0bf950db",
   "metadata": {},
   "source": [
    "\n",
    "--> The k-fold cross validation is done for data set by dividing it in to 4 chunks and taking the mean R^2 values of all those.\n",
    "This is a more robust method of taking R^2 value of the model. The k-fold R^2 is 0.6235.\n"
   ]
  },
  {
   "cell_type": "markdown",
   "id": "fd6ef1fe",
   "metadata": {},
   "source": [
    "                                          TESTING THE MODEL"
   ]
  },
  {
   "cell_type": "code",
   "execution_count": 58,
   "id": "ecc63c67",
   "metadata": {},
   "outputs": [],
   "source": [
    "#split the data in training and test set\n",
    "from sklearn.model_selection import train_test_split\n",
    "X_train,X_test,y_train,y_test = train_test_split(X,y,random_state=89,test_size=0.25)"
   ]
  },
  {
   "cell_type": "markdown",
   "id": "20273084",
   "metadata": {},
   "source": [
    "\n",
    "--> The data set is split into training set (75%) and testing set (25%) and is used further for testing the model.\n"
   ]
  },
  {
   "cell_type": "code",
   "execution_count": 59,
   "id": "3df685a4",
   "metadata": {},
   "outputs": [
    {
     "data": {
      "text/plain": [
       "LinearRegression()"
      ]
     },
     "execution_count": 59,
     "metadata": {},
     "output_type": "execute_result"
    }
   ],
   "source": [
    "# Creating instance of Linear Regression Model\n",
    "lrmodel = LinearRegression()\n",
    "lrmodel.fit(X_train,y_train)"
   ]
  },
  {
   "cell_type": "markdown",
   "id": "224392df",
   "metadata": {},
   "source": [
    "\n",
    "--> The model is created with the training data set using the fit method.\n"
   ]
  },
  {
   "cell_type": "code",
   "execution_count": 60,
   "id": "ff9618d4",
   "metadata": {},
   "outputs": [
    {
     "name": "stdout",
     "output_type": "stream",
     "text": [
      "Training R2 = 0.6622717450624971\n",
      "Training Adj-R2 = 0.6594844417205095\n"
     ]
    }
   ],
   "source": [
    "#Training score \n",
    "R2 = lrmodel.score(X_train,y_train)\n",
    "print('Training R2 =',R2) #r2 value\n",
    "print('Training Adj-R2 =',adjR2(X_train.shape[0],X_train.shape[1],R2))"
   ]
  },
  {
   "cell_type": "markdown",
   "id": "f9096bd2",
   "metadata": {},
   "source": [
    "\n",
    "--> The Training R^2 value = 0.6622 and Adj-R^2 value = is 0.6594 are obtained.\n"
   ]
  },
  {
   "cell_type": "code",
   "execution_count": 61,
   "id": "c2cc521f",
   "metadata": {},
   "outputs": [
    {
     "name": "stdout",
     "output_type": "stream",
     "text": [
      "Test R2 = 0.5413567139404493\n",
      "Test Adj-R2 = 0.5297942781574354\n"
     ]
    }
   ],
   "source": [
    "#Test score \n",
    "R2 = lrmodel.score(X_test,y_test)\n",
    "print('Test R2 =',R2) #r2 value\n",
    "print('Test Adj-R2 =',adjR2(X_test.shape[0],X_test.shape[1],R2))"
   ]
  },
  {
   "cell_type": "markdown",
   "id": "5aec9c86",
   "metadata": {},
   "source": [
    "The Test R2 = 0.5413 and Test Adj-R2 = 0.5297 is obtained and will be lower as the test data is new to the model."
   ]
  },
  {
   "cell_type": "code",
   "execution_count": 62,
   "id": "2517cf44",
   "metadata": {},
   "outputs": [
    {
     "data": {
      "text/plain": [
       "array([20107.93316673, 24446.77505649, 27379.87185939, 23042.03148748,\n",
       "       20672.91827515, 25468.40812016, 20615.59038198, 27656.7443109 ,\n",
       "       35131.94256929, 31155.67281073])"
      ]
     },
     "execution_count": 62,
     "metadata": {},
     "output_type": "execute_result"
    }
   ],
   "source": [
    "#predict y values\n",
    "y_pred = lrmodel.predict(X_test)\n",
    "y_pred[0:10]"
   ]
  },
  {
   "cell_type": "markdown",
   "id": "80c3dd06",
   "metadata": {},
   "source": [
    "\n",
    "--> The predict method is used to predict the y for the testing set of X and few values are as shown above.\n"
   ]
  },
  {
   "cell_type": "code",
   "execution_count": 76,
   "id": "4b7a7e18",
   "metadata": {},
   "outputs": [
    {
     "name": "stdout",
     "output_type": "stream",
     "text": [
      "Mean Squared Error :  17439936.740354285\n",
      "Root Mean Squared Error :  4176.115029588419\n"
     ]
    }
   ],
   "source": [
    "#check the root mean squared error between the predicted and true values on the test set\n",
    "import math\n",
    "from sklearn.metrics import mean_absolute_error, mean_squared_error\n",
    "\n",
    "print(\"Mean Squared Error : \",mean_squared_error(y_test,y_pred)) # mse = mean[(y_pred - y_test)^2]\n",
    "print(\"Root Mean Squared Error : \",mean_squared_error(y_test,y_pred,squared=False)) # RMSE = sqrt(mean[(y_pred - y_test)^2])\n"
   ]
  },
  {
   "cell_type": "code",
   "execution_count": 66,
   "id": "ba81dd2b",
   "metadata": {},
   "outputs": [
    {
     "data": {
      "text/plain": [
       "LinearRegression()"
      ]
     },
     "execution_count": 66,
     "metadata": {},
     "output_type": "execute_result"
    }
   ],
   "source": [
    "# Running the linear regression model\n",
    "model = LinearRegression()\n",
    "model.fit(X,y)"
   ]
  },
  {
   "cell_type": "code",
   "execution_count": 67,
   "id": "b27f5a74",
   "metadata": {},
   "outputs": [
    {
     "data": {
      "text/plain": [
       "4620.083"
      ]
     },
     "execution_count": 67,
     "metadata": {},
     "output_type": "execute_result"
    }
   ],
   "source": [
    "model.intercept_.round(3)"
   ]
  },
  {
   "cell_type": "markdown",
   "id": "8fdfb689",
   "metadata": {},
   "source": [
    "\n",
    "--> The intercept is the b0 value.\n"
   ]
  },
  {
   "cell_type": "code",
   "execution_count": 69,
   "id": "522bdf46",
   "metadata": {},
   "outputs": [
    {
     "data": {
      "text/plain": [
       "array([ 326.987, 7417.069, 2657.881,   68.595, 2244.579, -583.113])"
      ]
     },
     "execution_count": 69,
     "metadata": {},
     "output_type": "execute_result"
    }
   ],
   "source": [
    "model.coef_.round(3)"
   ]
  },
  {
   "cell_type": "markdown",
   "id": "83a242a2",
   "metadata": {},
   "source": [
    "\n",
    "--> The coifficients are the b1, b2... values corresponding to the predictors.\n"
   ]
  },
  {
   "cell_type": "markdown",
   "id": "a2cc6d41",
   "metadata": {},
   "source": [
    "Inferences:\n",
    "\n",
    "PremiumPrice = 4620.083 + (326.987 * Age) + (7417.069 * AnyTransplants) + (2657.881 * AnyChronicDiseases) + (68.595 * Weight) +\n",
    "                         (2244.579 * HistoryOfCancerInFamily) - (583.113 * NumberOfMajorSurgeries)\n",
    "\n",
    "The model is weak because the k-fold R^2 value is low (0.6235). May be a different model (non-linear) will be better to predict the output variable as the correlation study suggests."
   ]
  }
 ],
 "metadata": {
  "kernelspec": {
   "display_name": "Python 3",
   "language": "python",
   "name": "python3"
  },
  "language_info": {
   "codemirror_mode": {
    "name": "ipython",
    "version": 3
   },
   "file_extension": ".py",
   "mimetype": "text/x-python",
   "name": "python",
   "nbconvert_exporter": "python",
   "pygments_lexer": "ipython3",
   "version": "3.8.8"
  }
 },
 "nbformat": 4,
 "nbformat_minor": 5
}
